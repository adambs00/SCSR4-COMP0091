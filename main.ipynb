{
 "cells": [
  {
   "cell_type": "markdown",
   "id": "75c86aa4-4f23-4186-8569-c39f31dabd6e",
   "metadata": {},
   "source": [
    "# Dataloader:"
   ]
  },
  {
   "cell_type": "code",
   "execution_count": null,
   "id": "d26c98ae-adb7-42f1-8f81-0848095db025",
   "metadata": {},
   "outputs": [],
   "source": [
    "pip install --upgrade pydata-google-auth google-cloud-bigquery[pandas] -q"
   ]
  },
  {
   "cell_type": "code",
   "execution_count": null,
   "id": "2eac3ff9-35bb-4e39-8d3c-db2ce30d9f57",
   "metadata": {},
   "outputs": [],
   "source": [
    "pip install pandas-gbq -q"
   ]
  },
  {
   "cell_type": "code",
   "execution_count": null,
   "id": "f15a4858-c08d-4921-9d97-bf439b61e511",
   "metadata": {},
   "outputs": [],
   "source": [
    "import pydata_google_auth\n",
    "import pandas as pd\n",
    "import numpy as np\n",
    "import matplotlib.pyplot as plt\n",
    "\n",
    "%matplotlib inline"
   ]
  },
  {
   "cell_type": "code",
   "execution_count": null,
   "id": "155a3b91-d783-41b8-8bed-9d037ab3c156",
   "metadata": {},
   "outputs": [],
   "source": [
    "gbq_credentials = pydata_google_auth.get_user_credentials(\n",
    "                                        [\"https://www.googleapis.com/auth/bigquery\"],\n",
    "                                        use_local_webserver=False)\n",
    "\n",
    "project_id = \"ki-datalake-experiments-7b57\""
   ]
  },
  {
   "cell_type": "markdown",
   "id": "4c9a4845-807d-4c4b-8a8a-8603c131705c",
   "metadata": {},
   "source": [
    "### Load dataset:"
   ]
  },
  {
   "cell_type": "code",
   "execution_count": null,
   "id": "c0f88445-fcad-4f0c-9ba1-bf61ccc68e6c",
   "metadata": {},
   "outputs": [],
   "source": [
    "# Input the insurance group class:\n",
    "# E.g., \"COMMERCIAL NA OPEN MARKET\", \"COMMERCIAL WW\", \"PERSONAL ACCIDENT\", \"PI US\"\n",
    "query = \"\"\"\n",
    "    SELECT p.PolicyRef, p.Syndicate, p.InceptionDate, p.ExpiryDate, p.GrossNetWrittenPremium_USD, p.Exposure_USD,\n",
    "           c.LossDateFrom, c.Incurred_USD\n",
    "    FROM `ki-datalake-prod-c82c.mymi_dump_live.Policy` p\n",
    "    JOIN `ki-datalake-prod-c82c.mymi_dump_live.Claim` c\n",
    "    ON p.PolicyRef = c.PolicyRef\n",
    "    WHERE p.GroupClass = \"COMMERCIAL NA OPEN MARKET\"\n",
    "    \"\"\""
   ]
  },
  {
   "cell_type": "code",
   "execution_count": null,
   "id": "315baf77-a52b-40ee-bd9a-edde47571269",
   "metadata": {},
   "outputs": [],
   "source": [
    "ki_df = pd.read_gbq(query, project_id=project_id, dialect=\"standard\", credentials=gbq_credentials)"
   ]
  },
  {
   "cell_type": "markdown",
   "id": "8cabb209-2187-4af3-bdb3-50bc294db68d",
   "metadata": {},
   "source": [
    "### Clean dataset:"
   ]
  },
  {
   "cell_type": "code",
   "execution_count": null,
   "id": "a8a73cd7-2ea2-4a66-a0eb-8485c15e2756",
   "metadata": {},
   "outputs": [],
   "source": [
    "ki_df.InceptionDate = pd.to_datetime(ki_df.InceptionDate) + pd.offsets.MonthBegin(0)\n",
    "ki_df.ExpiryDate = pd.to_datetime(ki_df.ExpiryDate) + pd.offsets.MonthBegin(0)\n",
    "ki_df.LossDateFrom = pd.to_datetime(ki_df.LossDateFrom) + pd.offsets.MonthBegin(0)\n",
    "\n",
    "ki_df.GrossNetWrittenPremium_USD = np.round(ki_df.GrossNetWrittenPremium_USD)\n",
    "ki_df.Exposure_USD = np.round(ki_df.Exposure_USD)\n",
    "ki_df.Incurred_USD = np.round(ki_df.Incurred_USD)\n",
    "\n",
    "ki_df = ki_df.loc[ki_df.Incurred_USD >= 0]\n",
    "ki_df = ki_df.loc[ki_df.Exposure_USD > 0]\n",
    "ki_df = ki_df.loc[ki_df.GrossNetWrittenPremium_USD > 1000]\n",
    "ki_df = ki_df.loc[ki_df.Exposure_USD >= ki_df.Incurred_USD]\n",
    "ki_df = ki_df.loc[ki_df.Exposure_USD >= ki_df.GrossNetWrittenPremium_USD]\n",
    "ki_df = ki_df.loc[ki_df.LossDateFrom >= ki_df.InceptionDate]\n",
    "ki_df = ki_df.loc[ki_df.ExpiryDate >= ki_df.LossDateFrom]\n",
    "\n",
    "for policy in ki_df.PolicyRef.unique():\n",
    "    risk = ki_df.loc[ki_df.PolicyRef == policy]\n",
    "    if risk.GrossNetWrittenPremium_USD.nunique() > 1:\n",
    "        for premium in risk.GrossNetWrittenPremium_USD.unique():\n",
    "            ki_df.loc[(ki_df.GrossNetWrittenPremium_USD == premium) & (ki_df.PolicyRef == policy), \"PolicyRef\"] = policy + str(premium)\n",
    "    \n",
    "for policy in ki_df.PolicyRef.unique():\n",
    "    risk = ki_df.loc[ki_df.PolicyRef == policy]\n",
    "    if risk.Incurred_USD.sum() > risk.Exposure_USD.mean():\n",
    "        ki_df = ki_df.loc[ki_df.PolicyRef != policy]\n",
    "\n",
    "ki_df.sort_values(by='InceptionDate', inplace=True)\n",
    "ki_df.head()"
   ]
  },
  {
   "cell_type": "markdown",
   "id": "8842ffaa-d33f-490d-ad55-fbbc7b04b321",
   "metadata": {},
   "source": [
    "### Plot syndicate dataset:"
   ]
  },
  {
   "cell_type": "code",
   "execution_count": null,
   "id": "bdd29968-4b35-4808-a75a-286aa5a3b49a",
   "metadata": {},
   "outputs": [],
   "source": [
    "syndicate = \"2987\"\n",
    "capital = 100_000_000\n",
    "\n",
    "syndicate_df = ki_df.loc[ki_df.Syndicate == syndicate]\n",
    "\n",
    "grouped_syndicate_df = syndicate_df.groupby([\"PolicyRef\", \"InceptionDate\", \"ExpiryDate\"],\n",
    "                                            as_index=False).mean().drop(columns=[\"Incurred_USD\"])\n",
    "time = pd.date_range(start=syndicate_df.InceptionDate.min(), \n",
    "                     end=max(syndicate_df.InceptionDate.max(), syndicate_df.LossDateFrom.max()), freq=\"MS\")\n",
    "df = pd.DataFrame({\"time\": time})\n",
    "\n",
    "cash = []\n",
    "cash.append(capital)\n",
    "for step in time:        \n",
    "    claims = sum(syndicate_df.loc[syndicate_df.LossDateFrom == step].Incurred_USD)\n",
    "    premiums = sum(grouped_syndicate_df.loc[grouped_syndicate_df.InceptionDate == step].GrossNetWrittenPremium_USD)\n",
    "    try:\n",
    "        cash.append(cash[-1] + premiums - claims)\n",
    "    except:\n",
    "        if premiums != 0:\n",
    "            cash.append(premiums - claims)\n",
    "        else:\n",
    "            cash.append(None)\n",
    "\n",
    "    if premiums != 0:\n",
    "        capacity = sum(grouped_syndicate_df.loc[grouped_syndicate_df.InceptionDate == step].Exposure_USD)\n",
    "\n",
    "df[str(syndicate)] = cash[1:]\n",
    "\n",
    "df.plot(x=\"time\", y=syndicate, kind=\"line\")\n",
    "plt.xlabel(\"Time\")\n",
    "plt.ylabel(\"Captial (USD)\")\n",
    "plt.title(\"Insurer Capital\")\n",
    "plt.show()\n",
    "\n",
    "print(\"Syndicate:\", syndicate)\n",
    "print()\n",
    "print(\"Total premiums:\", grouped_syndicate_df.GrossNetWrittenPremium_USD.sum(), \"USD\")\n",
    "print(\"Total claims:\", syndicate_df.Incurred_USD.sum(), \"USD\")\n",
    "print(\"Net capital:\", df[syndicate].iloc[-1] - df[syndicate].iloc[0], \"USD\")\n",
    "print()\n",
    "print(\"Number of risks:\", syndicate_df.PolicyRef.nunique())\n",
    "print()\n",
    "print(\"Earliest date:\", syndicate_df.InceptionDate.min()) \n",
    "print(\"Latest date:\", max(syndicate_df.InceptionDate.max(), syndicate_df.LossDateFrom.max()))\n",
    "print()"
   ]
  },
  {
   "cell_type": "markdown",
   "id": "010186f3-1fba-4680-ade0-ffcbd8776e9f",
   "metadata": {},
   "source": [
    "### Determine dataset features:"
   ]
  },
  {
   "cell_type": "code",
   "execution_count": null,
   "id": "90a5acfb-d343-4be1-8ef8-45e876830410",
   "metadata": {},
   "outputs": [],
   "source": [
    "print(\"Whole market features:\")\n",
    "print()\n",
    "\n",
    "monthly_market_capacity = grouped_syndicate_df.groupby([\"InceptionDate\"], as_index=False).sum().Exposure_USD\n",
    "print(\"Minimum capacity in one month:\", monthly_market_capacity.min(), \"USD\")\n",
    "print(\"Maximum capacity in one month:\", monthly_market_capacity.max(), \"USD\")\n",
    "print()\n",
    "\n",
    "monthly_n_risks = grouped_syndicate_df.InceptionDate.value_counts()\n",
    "print(\"Minimum number of risks incepted in one month:\", monthly_n_risks.min())\n",
    "print(\"Maximum number of risks incepted in one month:\", monthly_n_risks.max())\n",
    "print()\n",
    "\n",
    "print(\"Individual risk features:\")\n",
    "print()\n",
    "\n",
    "risk_capacity = grouped_syndicate_df.Exposure_USD\n",
    "print(\"Minimum capacity:\", risk_capacity.min(), \"USD\")\n",
    "print(\"Maximum capacity:\", risk_capacity.max(), \"USD\")\n",
    "print()\n",
    "\n",
    "claims = syndicate_df.groupby([\"PolicyRef\"], as_index=False).sum().Incurred_USD\n",
    "premiums = syndicate_df.groupby([\"PolicyRef\"], as_index=False).mean().GrossNetWrittenPremium_USD\n",
    "reward = premiums - claims\n",
    "net_reward = np.abs(claims - premiums)\n",
    "print(\"Minimum net capital:\", net_reward.min(), \"USD\")\n",
    "print(\"Maximum net capital:\", net_reward.max(), \"USD\")\n",
    "print()\n",
    "\n",
    "risk_length = syndicate_df.groupby([\"PolicyRef\", \"InceptionDate\", \"ExpiryDate\"], as_index=False).mean()\n",
    "risk_length = risk_length.ExpiryDate.dt.to_period('M').view(int) - risk_length.InceptionDate.dt.to_period('M').view(int)\n",
    "print(\"Minimum contract length:\", risk_length.min(), \"months\")\n",
    "print(\"Maximum contract length:\", risk_length.max(), \"months\")"
   ]
  },
  {
   "cell_type": "markdown",
   "id": "d9639ce4-1116-4502-9165-d6a7cf392cdd",
   "metadata": {},
   "source": [
    "# Simulation:"
   ]
  },
  {
   "cell_type": "code",
   "execution_count": null,
   "id": "912a85a3-c18b-4fc1-9265-ac53690f942f",
   "metadata": {},
   "outputs": [],
   "source": [
    "pip install abcEconomics -q"
   ]
  },
  {
   "cell_type": "code",
   "execution_count": null,
   "id": "f6be94e4-0b1d-4598-a0f1-d327238910b4",
   "metadata": {},
   "outputs": [],
   "source": [
    "import os\n",
    "import shutil\n",
    "import tensorflow as tf\n",
    "\n",
    "from tensorflow import set_random_seed\n",
    "from abcEconomics import Simulation\n",
    "from risk import Risk\n",
    "from insurer import Insurer\n",
    "from dqn_insurer import DQNInsurer\n",
    "from customer import Customer\n",
    "from generators import insurer_generator, dqn_insurer_generator"
   ]
  },
  {
   "cell_type": "markdown",
   "id": "77e306b5-03b7-4b33-8e9d-0cc5716e4fe4",
   "metadata": {},
   "source": [
    "### Reset working directory:"
   ]
  },
  {
   "cell_type": "code",
   "execution_count": null,
   "id": "df964257-9ce3-46c5-b2d0-0645ff134325",
   "metadata": {},
   "outputs": [],
   "source": [
    "for folder in [\"model\", \"result\", \"data\", \"plot\"]:\n",
    "    if not os.path.exists(\"/home/jupyter/\" + folder):\n",
    "        os.makedirs(\"/home/jupyter/\" + folder)\n",
    "    else:\n",
    "        shutil.rmtree(\"/home/jupyter/\" + folder, ignore_errors=False, onerror=None)\n",
    "        os.makedirs(\"/home/jupyter/\" + folder)"
   ]
  },
  {
   "cell_type": "markdown",
   "id": "fa18f1d9-f049-468d-8498-190eff5c10ef",
   "metadata": {},
   "source": [
    "### Set up customer agents from the dataset:"
   ]
  },
  {
   "cell_type": "code",
   "execution_count": null,
   "id": "76e6e65d-02e8-4150-92e5-0c08c8df6995",
   "metadata": {},
   "outputs": [],
   "source": [
    "risk_id = -1\n",
    "customer_parameters = []\n",
    "actual_premiums = {}\n",
    "market_features = {}\n",
    "for date in time:\n",
    "    entry = date\n",
    "    risk_ids = []\n",
    "    market_capacity = 0\n",
    "    for policy in syndicate_df.loc[syndicate_df.InceptionDate == entry].PolicyRef.unique():\n",
    "        risk = syndicate_df.loc[ki_df.PolicyRef == policy]\n",
    "        capacity = risk.Exposure_USD.unique().item()\n",
    "        length = (risk.ExpiryDate.dt.to_period('M').view(int) - risk.InceptionDate.dt.to_period('M').view(int)).unique().item()    \n",
    "        claims = risk.loc[risk.Incurred_USD != 0]\n",
    "        claims = claims.groupby([\"LossDateFrom\"], as_index=False).sum()\n",
    "        claims = claims.drop(columns=[\"GrossNetWrittenPremium_USD\", \"Exposure_USD\"])\n",
    "        claims = claims.to_records(index=False)\n",
    "        \n",
    "        risk = Risk(entry, risk_id, capacity, length, claims)\n",
    "        customer_parameters.append({\"risk\": risk})\n",
    "\n",
    "        actual_premium = grouped_syndicate_df.loc[grouped_syndicate_df.PolicyRef == policy].GrossNetWrittenPremium_USD.item()\n",
    "        actual_premiums[str(risk)] = actual_premium\n",
    "        \n",
    "        risk_id += 1\n",
    "        risk_ids.append(risk_id)\n",
    "        market_capacity += capacity\n",
    "        \n",
    "    market_features.update({str(entry): {\"risk_ids\": risk_ids, \"market_capacity\": market_capacity}})"
   ]
  },
  {
   "cell_type": "markdown",
   "id": "9fd3b6a3-ece0-41da-b13f-97bae02e8401",
   "metadata": {},
   "source": [
    "### Set up baseline insurer agents:"
   ]
  },
  {
   "cell_type": "code",
   "execution_count": null,
   "id": "412fe209-5cd3-414b-aa59-a6e99e4dd5fb",
   "metadata": {},
   "outputs": [],
   "source": [
    "# Input the number of insurers (n_insurers):\n",
    "n_insurers = 1"
   ]
  },
  {
   "cell_type": "code",
   "execution_count": null,
   "id": "034c96cc-59c7-40f9-8bba-61220abb2c2c",
   "metadata": {},
   "outputs": [],
   "source": [
    "# Input a list of premium formulae for the insurers (premium_formulae):\n",
    "def premium_formula(risk):\n",
    "    \"\"\"\n",
    "    Calculates a premium (scalar) for insuring a risk.\n",
    "    \"\"\"\n",
    "    actual_premium = actual_premiums[str(risk)]\n",
    "    premium = int(np.abs(actual_premium * (1.0 + 0.0 * np.random.normal())))\n",
    "    return premium       \n",
    "        \n",
    "premium_formulae = []\n",
    "for n in range(n_insurers):\n",
    "    premium_formulae.append(premium_formula)"
   ]
  },
  {
   "cell_type": "code",
   "execution_count": null,
   "id": "d18ed69d-1515-45d1-ad5d-5b25bd4b830b",
   "metadata": {},
   "outputs": [],
   "source": [
    "# Input a list of initial cash values for the insurers (insurer_cash_values):\n",
    "def insurer_cash():\n",
    "    \"\"\"\n",
    "    Determines an insurer's intial cash value (scalar).\n",
    "    \"\"\"\n",
    "    cash = 100_000_000 * (1 + 0.0 * np.random.normal())\n",
    "    return cash\n",
    "\n",
    "insurer_cash_values = []\n",
    "for n in range(n_insurers):\n",
    "    insurer_cash_values.append(insurer_cash())"
   ]
  },
  {
   "cell_type": "markdown",
   "id": "133258e0-b006-4d87-9d8f-22872d7aee04",
   "metadata": {},
   "source": [
    "### Set up DQN insurer agents:"
   ]
  },
  {
   "cell_type": "code",
   "execution_count": null,
   "id": "ad5ca7ee-fa29-47e5-8b6e-46ee8daf70fa",
   "metadata": {},
   "outputs": [],
   "source": [
    "# Input the number of DQN insurers (n_dqn_insurers):\n",
    "n_dqn_insurers = 1"
   ]
  },
  {
   "cell_type": "code",
   "execution_count": null,
   "id": "e11b2d39-428b-46fe-b42d-b9d401530828",
   "metadata": {},
   "outputs": [],
   "source": [
    "# Input a list of algorithms for the DQN insurers (dqn_insurer_algorithms):\n",
    "# E.g., [\"DQN\"], \"DDQN\"], [\"DQNPER\"], [\"DDQNPER\"] [\"PASSIVE\"], [\"DQN\", \"PASSIVE\"]\n",
    "dqn_insurer_algorithms = [\"DQNPER\"]"
   ]
  },
  {
   "cell_type": "code",
   "execution_count": null,
   "id": "7d650203-9ef3-4860-b47f-33d9e9006b9c",
   "metadata": {},
   "outputs": [],
   "source": [
    "# Input a list of weights to initialise the DQN insurers (dqn_insurer_weights):\n",
    "# E.g., [None], [\"001_0\"], [None, \"025_0\"]\n",
    "dqn_insurer_weights = [None]"
   ]
  },
  {
   "cell_type": "code",
   "execution_count": null,
   "id": "97dd3006-10b6-4d3d-9ae6-b13299fd3f7f",
   "metadata": {},
   "outputs": [],
   "source": [
    "# Input the dimensions of the state space for the DQN insurers (dqn_insurer_states):\n",
    "dqn_insurer_states = 4"
   ]
  },
  {
   "cell_type": "code",
   "execution_count": null,
   "id": "648a28c5-e6f2-480e-9fca-d158caf32e9c",
   "metadata": {},
   "outputs": [],
   "source": [
    "# Input the action space for the DQN insurers (dqn_insurer_actions):\n",
    "rate_distribution = syndicate_df.GrossNetWrittenPremium_USD / syndicate_df.Exposure_USD\n",
    "dqn_insurer_actions = list(np.percentile(rate_distribution, [10 * i for i in range(10)]))"
   ]
  },
  {
   "cell_type": "code",
   "execution_count": null,
   "id": "503b106c-f889-4a8d-8e70-62fe3ecc7e14",
   "metadata": {},
   "outputs": [],
   "source": [
    "# Input a list of initial cash values for the DQN insurers (dqn_insurer_cash_values):\n",
    "def dqn_insurer_cash():\n",
    "    \"\"\"\n",
    "    Determines a DQN insurer's intial cash value (scalar).\n",
    "    \"\"\"\n",
    "    cash = 100_000_000 * (1 + 0.0 * np.random.normal())\n",
    "    return cash\n",
    "\n",
    "dqn_insurer_cash_values = []\n",
    "for n in range(n_dqn_insurers):\n",
    "    dqn_insurer_cash_values.append(dqn_insurer_cash())"
   ]
  },
  {
   "cell_type": "code",
   "execution_count": null,
   "id": "b47fa4b8-c0e8-450b-a33f-0e53c1f8a559",
   "metadata": {},
   "outputs": [],
   "source": [
    "# Input a dictionary of hyperparameters for the DQN insurers (hyperparameters):\n",
    "hyperparameters = {\"n_hidden_layers\": 3,\n",
    "                   \"n_hidden_nodes\": [4, 4, 4],\n",
    "                   \"epsilon\": 1.0,\n",
    "                   \"min_epsilon\": 0.01,\n",
    "                   \"decay\": 0.93,\n",
    "                   \"batch_size\": 128,\n",
    "                   \"learning_rate\": 0.00003,\n",
    "                   \"gamma\": 0.9999,\n",
    "                   \"alpha\": 0.6}"
   ]
  },
  {
   "cell_type": "code",
   "execution_count": null,
   "id": "15e4db79-66f6-4392-9bea-ad52697bb407",
   "metadata": {},
   "outputs": [],
   "source": [
    "# Input a dictionary of scaling contants for the DQN insurers (scaling_constants):\n",
    "scaling_constants = {\"market_capacity_scale\": 1 / monthly_market_capacity.max(),\n",
    "                     \"n_risks_scale\": 1 / monthly_n_risks.max(), \n",
    "                     \"risk_capacity_scale\": 1 / risk_capacity.max(),\n",
    "                     \"reward_scale\": 1 / net_reward.max(),\n",
    "                     \"reward_shift\": np.quantile(net_reward, 0.25),\n",
    "                     \"risk_length_scale\": 1 /  risk_length.max()}"
   ]
  },
  {
   "cell_type": "markdown",
   "id": "39c629fe-50db-4783-a04a-d2e77797cc56",
   "metadata": {},
   "source": [
    "### Run simulation(s):"
   ]
  },
  {
   "cell_type": "code",
   "execution_count": null,
   "id": "6a825c00-fdc2-4303-b231-687861a49139",
   "metadata": {},
   "outputs": [],
   "source": [
    "# Input the number of simulations (simulations):\n",
    "simulations = 101"
   ]
  },
  {
   "cell_type": "code",
   "execution_count": null,
   "id": "32a6d806-e3f1-40a4-bd6a-f40fc3ade7d8",
   "metadata": {},
   "outputs": [],
   "source": [
    "# Input the random seed (seed):\n",
    "seed = 0"
   ]
  },
  {
   "cell_type": "code",
   "execution_count": null,
   "id": "922ce272-89e3-4c99-9a41-0a40657cd27c",
   "metadata": {},
   "outputs": [],
   "source": [
    "tf.set_random_seed(seed)\n",
    "np.random.seed(seed)\n",
    "\n",
    "print(\"Running\", simulations, \"simulation(s):\")\n",
    "t = 0\n",
    "epsilon = hyperparameters.get(\"epsilon\")\n",
    "for s in range(simulations): \n",
    "    os.chdir(\"/home/jupyter\")\n",
    "    simulation = Simulation(processes=1, random_seed=1)\n",
    "\n",
    "    simulation_parameters = {\"n_insurers\": n_insurers, \"n_dqn_insurers\": n_dqn_insurers,\"time\": time}\n",
    "    customers = simulation.build_agents(Customer, \"customer\", simulation_parameters=simulation_parameters, agent_parameters=customer_parameters)\n",
    "    \n",
    "    if n_insurers:\n",
    "        insurer_parameters = insurer_generator(n_insurers, premium_formulae, insurer_cash_values)\n",
    "        insurers = simulation.build_agents(Insurer, \"insurer\", agent_parameters=insurer_parameters)\n",
    "        \n",
    "    if n_dqn_insurers:\n",
    "        dqn_insurer_parameters = dqn_insurer_generator(n_dqn_insurers, dqn_insurer_algorithms, dqn_insurer_weights, dqn_insurer_states, dqn_insurer_actions, dqn_insurer_cash_values, hyperparameters, scaling_constants)\n",
    "        dqn_insurers = simulation.build_agents(DQNInsurer, \"dqn_insurer\", agent_parameters=dqn_insurer_parameters)\n",
    "    \n",
    "    for step in time:\n",
    "        simulation.advance_round(step)\n",
    "        \n",
    "        if n_dqn_insurers and step == time[0]:\n",
    "            if s == 0:\n",
    "                dqn_insurers.initialise(\"/home/jupyter/\")\n",
    "\n",
    "            if s > 0:\n",
    "                dqn_insurers.load(\"/home/jupyter/model/weights_\", \"{:03d}\".format(s) + \"_\", epsilon)[0][0]\n",
    "        \n",
    "        features = market_features.get(str(step))\n",
    "        risk_ids = features.get(\"risk_ids\")\n",
    "        for risk_id in risk_ids:\n",
    "            customers.seek(risk_id)\n",
    "                            \n",
    "            if n_insurers:\n",
    "                insurers.quote()\n",
    "                \n",
    "            if n_dqn_insurers:\n",
    "                dqn_insurers.observe(features)  \n",
    "                dqn_insurers.quote()\n",
    "            \n",
    "        customers.subscribe()\n",
    "                \n",
    "        if n_insurers:\n",
    "            insurers.underwrite()\n",
    "            insurers.payout()\n",
    "            insurers.panel_log(goods=[\"cash\"])\n",
    "                \n",
    "        if n_dqn_insurers:\n",
    "            dqn_insurers.underwrite()\n",
    "            dqn_insurers.payout()\n",
    "            dqn_insurers.panel_log(goods=[\"cash\"])\n",
    "                \n",
    "    if n_insurers:\n",
    "        insurers.measure(\"/home/jupyter/data/\" + \"{:03d}\".format(s + 1))\n",
    "        \n",
    "    if n_dqn_insurers:\n",
    "        dqn_insurers.replay()\n",
    "        dqn_insurers.measure(\"/home/jupyter/data/\" + \"{:03d}\".format(s + 1))\n",
    "        \n",
    "        epsilon = dqn_insurers.save(\"/home/jupyter/model/weights_\" + \"{:03d}\".format(s + 1) + \"_\")[0][0]\n",
    "        \n",
    "    print()\n",
    "    print(\"Simulation\", s + 1)\n",
    "    \n",
    "    simulation.finalize()\n",
    "    \n",
    "    os.chdir(simulation.path)\n",
    "\n",
    "    if n_insurers > 0:\n",
    "        data = pd.read_csv('panel_insurer.csv').drop(columns=[\"index\", \"round\"])\n",
    "\n",
    "        insurer_names = {\"insurer{}\".format(n) for n in range(n_insurers)}\n",
    "        simulation_df = pd.DataFrame({\"time\": time})\n",
    "        for insurer in insurer_names:\n",
    "            insurer_data = data[data[\"name\"] == insurer].drop(columns=\"name\")\n",
    "            insurer_data = insurer_data.rename({\"cash\": insurer}, axis=1)\n",
    "            insurer_data = insurer_data.reset_index(drop=True)\n",
    "            simulation_df = pd.concat([simulation_df, insurer_data], axis=1)\n",
    "\n",
    "    if n_dqn_insurers > 0:\n",
    "        data = pd.read_csv('panel_dqn_insurer.csv').drop(columns=[\"index\", \"round\"])\n",
    "\n",
    "        dqn_insurer_names = {\"dqn_insurer{}\".format(n) for n in range(n_dqn_insurers)}\n",
    "        dqn_simulation_df = pd.DataFrame({\"time\": time})\n",
    "        for insurer in dqn_insurer_names:\n",
    "            insurer_data = data[data[\"name\"] == insurer].drop(columns=\"name\")\n",
    "            insurer_data = insurer_data.rename({\"cash\": insurer}, axis=1)\n",
    "            insurer_data = insurer_data.reset_index(drop=True)\n",
    "            dqn_simulation_df = pd.concat([dqn_simulation_df, insurer_data], axis=1)\n",
    "    \n",
    "    if n_insurers > 0 and n_dqn_insurers > 0:\n",
    "        simulation_df = pd.concat([simulation_df, dqn_simulation_df.drop(columns=[\"time\"])], axis=1)\n",
    "        insurer_names.update(dqn_insurer_names)\n",
    "        \n",
    "    if n_insurers == 0 and n_dqn_insurers > 0:\n",
    "        simulation_df = dqn_simulation_df\n",
    "        insurer_names = dqn_insurer_names\n",
    "        \n",
    "    simulation_df.to_csv(\"/home/jupyter/data/\" + \"{:03d}\".format(s + 1) + \".csv\")\n",
    "    \n",
    "print()\n",
    "print(\"Simulation complete.\")"
   ]
  },
  {
   "cell_type": "markdown",
   "id": "4f309a79-702c-4976-a188-6b284ea3707b",
   "metadata": {},
   "source": [
    "\n"
   ]
  },
  {
   "cell_type": "markdown",
   "id": "722c4427-f20e-4e7e-81b7-37a53182cec4",
   "metadata": {},
   "source": [
    "# Analysis:"
   ]
  },
  {
   "cell_type": "code",
   "execution_count": null,
   "id": "3ffd220f-daf3-4d3c-a5ca-153d67f81354",
   "metadata": {},
   "outputs": [],
   "source": [
    "pip install shap -q"
   ]
  },
  {
   "cell_type": "code",
   "execution_count": null,
   "id": "9b617a14-6de7-41b5-bfa7-0bebe90034b8",
   "metadata": {},
   "outputs": [],
   "source": [
    "import shap\n",
    "import seaborn as sns\n",
    "\n",
    "from tensorflow import keras\n",
    "from collections import defaultdict"
   ]
  },
  {
   "cell_type": "markdown",
   "id": "2abb4c25-97c5-4d97-8743-e0fa20df0597",
   "metadata": {},
   "source": [
    "### Plot average insurer reward during training:"
   ]
  },
  {
   "cell_type": "code",
   "execution_count": null,
   "id": "95a5f515-a6b2-4c43-b6b7-4b1c67b059af",
   "metadata": {},
   "outputs": [],
   "source": [
    "training_rewards = defaultdict(list)\n",
    "for s in range(simulations):\n",
    "    for insurer in insurer_names:\n",
    "        if \"dqn\" not in insurer:\n",
    "            continue\n",
    "            \n",
    "        data = pd.read_csv(\"/home/jupyter/data/\" + \"{:03d}\".format(s + 1) + \"_\" + insurer + \"_actions.csv\")\n",
    "        average_reward = data.reward.mean()\n",
    "        training_rewards[insurer].append(average_reward)\n",
    "\n",
    "training_rewards_df = pd.DataFrame({\"simulation\": range(1, simulations + 1)})\n",
    "training_rewards_df = pd.concat([training_rewards_df, pd.DataFrame(training_rewards)], axis=1)\n",
    "training_rewards_df.plot(x=\"simulation\", y=training_rewards_df.columns[1:], kind=\"line\")\n",
    "\n",
    "plt.xlabel(\"Simulation\")\n",
    "plt.ylabel(\"Reward\")\n",
    "plt.title(\"Average Insurer Reward during Training\")\n",
    "plt.savefig(\"/home/jupyter/plot/training_reward\")\n",
    "plt.show()"
   ]
  },
  {
   "cell_type": "markdown",
   "id": "473d31c0-df51-43d2-8907-00b057f6d81c",
   "metadata": {},
   "source": [
    "### Plot insurer net capital during training:"
   ]
  },
  {
   "cell_type": "code",
   "execution_count": null,
   "id": "06b7ac77-9f9b-47f9-851d-5a9324f10220",
   "metadata": {},
   "outputs": [],
   "source": [
    "training_capitals = defaultdict(list)\n",
    "for s in range(simulations):\n",
    "    data = pd.read_csv(\"/home/jupyter/data/\" + \"{:03d}\".format(s + 1) + \".csv\")\n",
    "    for insurer in insurer_names:\n",
    "        net_capital = data[insurer].iloc[-1] - data[insurer].iloc[0]\n",
    "        training_capitals[insurer].append(net_capital)\n",
    "\n",
    "training_capitals_df = pd.DataFrame({\"simulation\": range(1, simulations + 1)})\n",
    "training_capitals_df = pd.concat([training_capitals_df, pd.DataFrame(training_capitals)], axis=1)\n",
    "training_capitals_df.plot(x=\"simulation\", y=training_capitals_df.columns[1:], kind=\"line\")\n",
    "\n",
    "plt.xlabel(\"Simulation\")\n",
    "plt.ylabel(\"Net Capital (USD)\")\n",
    "plt.title(\"Insurer Net Capital during Training\")\n",
    "plt.savefig(\"/home/jupyter/plot/training_capital\")\n",
    "plt.show()"
   ]
  },
  {
   "cell_type": "markdown",
   "id": "a10ffbaf-c55f-407a-8ac0-13cef29eec26",
   "metadata": {},
   "source": [
    "### Plot insurer action space during training:"
   ]
  },
  {
   "cell_type": "code",
   "execution_count": null,
   "id": "2be023cf-c8eb-42f2-915f-67d9b9dc8900",
   "metadata": {},
   "outputs": [],
   "source": [
    "for insurer in insurer_names:\n",
    "    training_actions = []\n",
    "    for s in range(simulations):\n",
    "        data = pd.read_csv(\"/home/jupyter/data/\" + \"{:03d}\".format(s + 1) + \"_\" + insurer + \"_actions.csv\")\n",
    "        action_space = [0] * len(dqn_insurer_actions)\n",
    "        for action in data[insurer]:\n",
    "            if \"dqn\" in insurer:\n",
    "                action_space[action] += 1\n",
    "            else:\n",
    "                action = np.argmin(np.abs(np.array(dqn_insurer_actions) - action))\n",
    "                action_space[action] += 1\n",
    "    \n",
    "        action_space = action_space / np.sum(action_space)\n",
    "        training_actions.append(action_space)\n",
    "        \n",
    "    training_actions = pd.DataFrame(training_actions).transpose()\n",
    "    heatmap = sns.heatmap(training_actions)\n",
    "    heatmap.set(title=insurer+\" Action Space during Training\", xlabel='Simulation', ylabel='Action Space')\n",
    "    plt.savefig(\"/home/jupyter/plot/training_\" + insurer + \"_actions\")\n",
    "    plt.show()"
   ]
  },
  {
   "cell_type": "markdown",
   "id": "212339b2-5945-4e0f-a2ff-8eb29ee34d9c",
   "metadata": {},
   "source": [
    "### Plot insurer market share during training:"
   ]
  },
  {
   "cell_type": "code",
   "execution_count": null,
   "id": "13202c72-c7b2-4306-9077-78109351e408",
   "metadata": {},
   "outputs": [],
   "source": [
    "training_shares = defaultdict(list)\n",
    "for s in range(simulations):\n",
    "    for insurer in insurer_names:\n",
    "        data = pd.read_csv(\"/home/jupyter/data/\" + \"{:03d}\".format(s + 1) + \"_\" + insurer + \"_actions.csv\")\n",
    "        share = data.capacity.sum()\n",
    "        training_shares[insurer].append(share)\n",
    "        \n",
    "training_shares_df.div(training_shares_df.sum(axis=1), axis=0)\n",
    "\n",
    "training_shares_df = training_shares_df.div(training_shares_df.sum(axis=1), axis=0)\n",
    "training_shares_df = pd.DataFrame({\"simulation\": range(1, simulations + 1)})\n",
    "training_shares_df = pd.concat([training_shares_df, pd.DataFrame(training_shares).div(pd.DataFrame(training_shares).sum(axis=1), axis=0)], axis=1)\n",
    "training_shares_df.plot.area(x=\"simulation\", y=training_shares_df.columns[1:])\n",
    "\n",
    "plt.xlabel(\"Simulation\")\n",
    "plt.ylabel(\"Market Share\")\n",
    "plt.title(\"Insurer Market Share during Training\")\n",
    "plt.savefig(\"/home/jupyter/plot/training_share\")\n",
    "plt.show()"
   ]
  },
  {
   "cell_type": "markdown",
   "id": "e1b65ebe-ab8b-415f-bb47-3e091774a437",
   "metadata": {},
   "source": [
    "### Plot simulation SHAP values:"
   ]
  },
  {
   "cell_type": "code",
   "execution_count": null,
   "id": "7b79b77a-8941-4ae6-88b4-3b4023ca690d",
   "metadata": {},
   "outputs": [],
   "source": [
    "# Input a list of simulations to plot (shap_simulations):\n",
    "# E.g., [1], [s + 1 for s in range(simulations)]\n",
    "shap_simulations = [training_rewards_df.loc[training_rewards_df[\"dqn_insurer0\"] == training_rewards_df[\"dqn_insurer0\"].max()].simulation.item()]"
   ]
  },
  {
   "cell_type": "code",
   "execution_count": null,
   "id": "670b8e66-1325-4456-8fa7-bab5b26eb883",
   "metadata": {},
   "outputs": [],
   "source": [
    "# Input either single or multi-action plot type (multi_action):\n",
    "multi_action = True"
   ]
  },
  {
   "cell_type": "code",
   "execution_count": null,
   "id": "2b129ab9-b307-4604-8817-5313be71f2d9",
   "metadata": {},
   "outputs": [],
   "source": [
    "# Input the list of feature names (feature_names):\n",
    "# E.g., [\"Number of Risks\", \"Market Capacity\", \"Risk Capacity\", \"Risk Length\"]\n",
    "feature_names = [\"Number of Risks\", \"Market Capacity\", \"Risk Capacity\", \"Risk Length\"]"
   ]
  },
  {
   "cell_type": "code",
   "execution_count": null,
   "id": "02fc4c07-0e5b-4292-a38e-0389ac547445",
   "metadata": {},
   "outputs": [],
   "source": [
    "model = keras.models.load_model(\"/home/jupyter/model/model\")\n",
    "\n",
    "for s in shap_simulations:\n",
    "    print(\"Simulation\", s)\n",
    "    print()\n",
    "    for insurer_id in range(n_dqn_insurers):\n",
    "        print(\"dqn_insurer\", insurer_id)\n",
    "        print()\n",
    "        np.random.seed(1)\n",
    "        states = np.load(\"/home/jupyter/data/\" + \"{:03d}\".format(s) + \"_dqn_insurer\" + str(insurer_id) + \"_states.npy\")\n",
    "        states = states[np.random.shuffle(states)][0]\n",
    "        split = int(0.8 * np.shape(states)[0])\n",
    "        background, test = states[:split, :], states[split:, :]\n",
    "        \n",
    "        explainer = shap.DeepExplainer(model, background)\n",
    "        shap_values = explainer.shap_values(test)\n",
    "        \n",
    "        if multi_action:\n",
    "            shap.summary_plot(shap_values[:], feature_names=feature_names,\n",
    "                              title=\"dqn_insurer\" + str(insurer_id))\n",
    "        else:\n",
    "            for action in range(len(dqn_insurer_actions)):\n",
    "                print(\"Action\", action)\n",
    "                shap.summary_plot(shap_values[action], feature_names=feature_names,\n",
    "                                  title=\"dqn_insurer\" + str(insurer_id) + \"action\" + str(action))\n",
    "                print()\n",
    "                \n",
    "        print()"
   ]
  },
  {
   "cell_type": "markdown",
   "id": "93d2a4df-dcc0-4c73-ae20-023a6701a722",
   "metadata": {},
   "source": [
    "### Plot insurer capital throughout simulation(s):"
   ]
  },
  {
   "cell_type": "code",
   "execution_count": null,
   "id": "2f761daa-67f2-40fe-a828-c4a934b6f671",
   "metadata": {},
   "outputs": [],
   "source": [
    "# Input a list of simulations to plot (plot_simulations):\n",
    "# E.g., [1], [s + 1 for s in range(simulations)]\n",
    "capital_simulations = [10 * s + 1 for s in range(11)]"
   ]
  },
  {
   "cell_type": "code",
   "execution_count": null,
   "id": "765a93ae-daab-4266-a176-ffc4afee89e2",
   "metadata": {},
   "outputs": [],
   "source": [
    "for s in capital_simulations:\n",
    "    print(\"Simulation\", s)\n",
    "    data = pd.read_csv(\"/home/jupyter/data/\" + \"{:03d}\".format(s) + \".csv\")\n",
    "    data.plot(x=\"time\", y=insurer_names, kind=\"line\")\n",
    "    plt.xlabel(\"Time\")\n",
    "    plt.ylabel(\"Captial (USD)\")\n",
    "    plt.title(\"Simulation \" + str(s) + \": Insurer Capital\")\n",
    "    plt.savefig(\"/home/jupyter/plot/\" + \"{:03d}\".format(s) + \"_capital\")\n",
    "    plt.show()\n",
    "    print()"
   ]
  },
  {
   "cell_type": "markdown",
   "id": "c875ca04-3c4b-4523-b1f6-1642fce49cfc",
   "metadata": {},
   "source": [
    "### Plot insurer action space throughout simulation(s):"
   ]
  },
  {
   "cell_type": "code",
   "execution_count": null,
   "id": "55881e79-3aa4-4536-b524-213ac5575dfd",
   "metadata": {},
   "outputs": [],
   "source": [
    "# Input a list of simulations to plot (plot_simulations):\n",
    "# E.g., [1], [s + 1 for s in range(simulations)]\n",
    "action_simulations = [10 * s + 1 for s in range(10)]"
   ]
  },
  {
   "cell_type": "code",
   "execution_count": null,
   "id": "c6099396-8c3b-4de5-a30f-2c2ce9458562",
   "metadata": {},
   "outputs": [],
   "source": [
    "for s in action_simulations:\n",
    "    print(\"Simulation\", s)\n",
    "    for insurer in insurer_names:\n",
    "        if \"dqn\" not in insurer:\n",
    "            continue\n",
    "        actions = {}\n",
    "        data = pd.read_csv(\"/home/jupyter/data/\" + \"{:03d}\".format(s) + \"_\" + insurer + \"_actions.csv\")\n",
    "        for step in time:\n",
    "            date = pd.to_datetime(step).date()\n",
    "            step_data = data.loc[data.time == str(date)]\n",
    "            if step_data.empty:\n",
    "                continue\n",
    "            action_space = [0] * len(dqn_insurer_actions)\n",
    "            for action in step_data[insurer]:\n",
    "                if \"dqn\" in insurer:\n",
    "                    action_space[action] += 1\n",
    "                else:\n",
    "                    action = np.argmin(np.abs(np.array(dqn_insurer_actions) - action))\n",
    "                    action_space[action] += 1\n",
    "                    \n",
    "            action_space = action_space / np.sum(action_space)\n",
    "            actions.update({str(date): action_space})\n",
    "\n",
    "        actions = pd.DataFrame(actions)\n",
    "        heatmap = sns.heatmap(actions)\n",
    "        heatmap.set(title=\"Simulation \" + str(s) + \": \" + insurer + \"  Actions\", xlabel='Simulation', ylabel='Action Space')\n",
    "        plt.savefig(\"/home/jupyter/plot/\" + \"{:03d}\".format(s) + \"_\" + insurer + \"_actions\")\n",
    "        plt.show()\n",
    "    \n",
    "    print()"
   ]
  },
  {
   "cell_type": "markdown",
   "id": "f00d8732-21d0-4880-a3fa-a490ded49799",
   "metadata": {},
   "source": [
    "### Plot insurer market share throughout simulation(s):"
   ]
  },
  {
   "cell_type": "code",
   "execution_count": null,
   "id": "81ff64a5-e1f3-4cb7-bb7b-56ee71a38121",
   "metadata": {},
   "outputs": [],
   "source": [
    "# Input a list of simulations to plot (plot_simulations):\n",
    "# E.g., [1], [s + 1 for s in range(simulations)]\n",
    "share_simulations = [10 * s + 1 for s in range(11)]"
   ]
  },
  {
   "cell_type": "code",
   "execution_count": null,
   "id": "8b5a6b85-444e-47e3-a8ef-9fe66dad91a8",
   "metadata": {},
   "outputs": [],
   "source": [
    "for s in share_simulations:\n",
    "    print(\"Simulation\", s)\n",
    "    insurer_shares = {}\n",
    "    for insurer in insurer_names:\n",
    "        shares = {}\n",
    "        data = pd.read_csv(\"/home/jupyter/data/\" + \"{:03d}\".format(s) + \"_\" + insurer + \"_actions.csv\")\n",
    "        for step in time:\n",
    "            date = pd.to_datetime(step).date()\n",
    "            step_data = data.loc[data.time == str(date)]\n",
    "            if step_data.empty:\n",
    "                continue\n",
    "            \n",
    "            share = step_data.capacity.sum()\n",
    "            shares.update({str(date): share})\n",
    "            \n",
    "        insurer_shares.update({insurer: shares})\n",
    "    \n",
    "    shares_df = pd.DataFrame(insurer_shares)\n",
    "    shares_df = shares_df.div(shares_df.sum(axis=1), axis=0)\n",
    "    shares_df.plot.area(y=training_shares_df.columns[1:])\n",
    "    plt.xlabel(\"Simulation\")\n",
    "    plt.ylabel(\"Market Share\")\n",
    "    plt.title(\"Simulation \" + str(s) + \": Insurer Market Share\")\n",
    "    plt.savefig(\"/home/jupyter/plot/\" \"{:03d}\".format(s) + \"market_share\")\n",
    "    plt.show()\n",
    "\n",
    "    print()"
   ]
  },
  {
   "cell_type": "markdown",
   "id": "61218643-6756-400a-9868-b8d84efecdd8",
   "metadata": {},
   "source": [
    "\n"
   ]
  },
  {
   "cell_type": "markdown",
   "id": "4b191ceb-911e-4d79-b701-481795cf4af8",
   "metadata": {},
   "source": [
    "\n"
   ]
  }
 ],
 "metadata": {
  "kernelspec": {
   "display_name": "Python 3 (ipykernel)",
   "language": "python",
   "name": "python3"
  },
  "language_info": {
   "codemirror_mode": {
    "name": "ipython",
    "version": 3
   },
   "file_extension": ".py",
   "mimetype": "text/x-python",
   "name": "python",
   "nbconvert_exporter": "python",
   "pygments_lexer": "ipython3",
   "version": "3.7.12"
  }
 },
 "nbformat": 4,
 "nbformat_minor": 5
}
